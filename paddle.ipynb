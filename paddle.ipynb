{
  "nbformat": 4,
  "nbformat_minor": 0,
  "metadata": {
    "colab": {
      "name": "paddle.ipynb",
      "provenance": [],
      "collapsed_sections": [],
      "machine_shape": "hm"
    },
    "kernelspec": {
      "name": "python3",
      "display_name": "Python 3"
    },
    "language_info": {
      "name": "python"
    },
    "accelerator": "GPU",
    "gpuClass": "standard"
  },
  "cells": [
    {
      "cell_type": "code",
      "source": [
        "!gdown 1SSSgxzhcKj-Jptt424KBajSJhH6kvSs-"
      ],
      "metadata": {
        "colab": {
          "base_uri": "https://localhost:8080/"
        },
        "id": "CcQyj3CasGJp",
        "outputId": "6875e58c-8b96-4f29-aad1-afb30a124a50"
      },
      "execution_count": null,
      "outputs": [
        {
          "output_type": "stream",
          "name": "stdout",
          "text": [
            "Downloading...\n",
            "From: https://drive.google.com/uc?id=1SSSgxzhcKj-Jptt424KBajSJhH6kvSs-\n",
            "To: /content/DeepLabv3Plus_Multi_PNGdata.zip\n",
            "\r  0% 0.00/31.4M [00:00<?, ?B/s]\r 48% 15.2M/31.4M [00:00<00:00, 152MB/s]\r100% 31.4M/31.4M [00:00<00:00, 188MB/s]\n"
          ]
        }
      ]
    },
    {
      "cell_type": "code",
      "source": [
        "!unzip /content/DeepLabv3Plus_Multi_PNGdata.zip"
      ],
      "metadata": {
        "id": "PGT0Zbk3sIA-"
      },
      "execution_count": null,
      "outputs": []
    },
    {
      "cell_type": "code",
      "source": [
        "!pip install PyYAML"
      ],
      "metadata": {
        "colab": {
          "base_uri": "https://localhost:8080/"
        },
        "id": "Bvca4cjkV5f1",
        "outputId": "19dcfa26-80b2-4585-dd81-6972ebada79a"
      },
      "execution_count": null,
      "outputs": [
        {
          "output_type": "stream",
          "name": "stdout",
          "text": [
            "Looking in indexes: https://pypi.org/simple, https://us-python.pkg.dev/colab-wheels/public/simple/\n",
            "Requirement already satisfied: PyYAML in /usr/local/lib/python3.7/dist-packages (3.13)\n"
          ]
        }
      ]
    },
    {
      "cell_type": "code",
      "source": [
        "import yaml"
      ],
      "metadata": {
        "id": "NUQcwQyOV-R3"
      },
      "execution_count": null,
      "outputs": []
    },
    {
      "cell_type": "code",
      "source": [
        "!python -m pip install paddlepaddle-gpu==2.2.2.post101 -f https://www.paddlepaddle.org.cn/whl/linux/mkl/avx/stable.html"
      ],
      "metadata": {
        "colab": {
          "base_uri": "https://localhost:8080/"
        },
        "id": "zPRZLeWdnUsB",
        "outputId": "152e7de4-3a0f-4876-d56c-bcbda019b2a8"
      },
      "execution_count": 1,
      "outputs": [
        {
          "output_type": "stream",
          "name": "stdout",
          "text": [
            "Looking in indexes: https://pypi.org/simple, https://us-python.pkg.dev/colab-wheels/public/simple/\n",
            "Looking in links: https://www.paddlepaddle.org.cn/whl/linux/mkl/avx/stable.html\n",
            "Collecting paddlepaddle-gpu==2.2.2.post101\n",
            "  Downloading https://paddle-wheel.bj.bcebos.com/2.2.2/linux/linux-gpu-cuda10.1-cudnn7-mkl-gcc5.4-avx/paddlepaddle_gpu-2.2.2.post101-cp37-cp37m-linux_x86_64.whl (434.3 MB)\n",
            "\u001b[K     |████████████████████████████████| 434.3 MB 17 kB/s \n",
            "\u001b[?25hRequirement already satisfied: requests>=2.20.0 in /usr/local/lib/python3.7/dist-packages (from paddlepaddle-gpu==2.2.2.post101) (2.23.0)\n",
            "Requirement already satisfied: astor in /usr/local/lib/python3.7/dist-packages (from paddlepaddle-gpu==2.2.2.post101) (0.8.1)\n",
            "Requirement already satisfied: protobuf>=3.1.0 in /usr/local/lib/python3.7/dist-packages (from paddlepaddle-gpu==2.2.2.post101) (3.17.3)\n",
            "Requirement already satisfied: decorator in /usr/local/lib/python3.7/dist-packages (from paddlepaddle-gpu==2.2.2.post101) (4.4.2)\n",
            "Requirement already satisfied: six in /usr/local/lib/python3.7/dist-packages (from paddlepaddle-gpu==2.2.2.post101) (1.15.0)\n",
            "Requirement already satisfied: Pillow in /usr/local/lib/python3.7/dist-packages (from paddlepaddle-gpu==2.2.2.post101) (7.1.2)\n",
            "Requirement already satisfied: numpy>=1.13 in /usr/local/lib/python3.7/dist-packages (from paddlepaddle-gpu==2.2.2.post101) (1.21.6)\n",
            "Requirement already satisfied: chardet<4,>=3.0.2 in /usr/local/lib/python3.7/dist-packages (from requests>=2.20.0->paddlepaddle-gpu==2.2.2.post101) (3.0.4)\n",
            "Requirement already satisfied: certifi>=2017.4.17 in /usr/local/lib/python3.7/dist-packages (from requests>=2.20.0->paddlepaddle-gpu==2.2.2.post101) (2022.6.15)\n",
            "Requirement already satisfied: idna<3,>=2.5 in /usr/local/lib/python3.7/dist-packages (from requests>=2.20.0->paddlepaddle-gpu==2.2.2.post101) (2.10)\n",
            "Requirement already satisfied: urllib3!=1.25.0,!=1.25.1,<1.26,>=1.21.1 in /usr/local/lib/python3.7/dist-packages (from requests>=2.20.0->paddlepaddle-gpu==2.2.2.post101) (1.24.3)\n",
            "Installing collected packages: paddlepaddle-gpu\n",
            "Successfully installed paddlepaddle-gpu-2.2.2.post101\n"
          ]
        }
      ]
    },
    {
      "cell_type": "code",
      "source": [
        "import paddle\n",
        "paddle.utils.run_check()"
      ],
      "metadata": {
        "colab": {
          "base_uri": "https://localhost:8080/"
        },
        "id": "pMpM1pXrnZWg",
        "outputId": "6dbaed4e-8ea5-49ab-c0da-905320253507"
      },
      "execution_count": 2,
      "outputs": [
        {
          "output_type": "stream",
          "name": "stdout",
          "text": [
            "Running verify PaddlePaddle program ... \n",
            "PaddlePaddle works well on 1 GPU.\n",
            "PaddlePaddle works well on 1 GPUs.\n",
            "PaddlePaddle is installed successfully! Let's start deep learning with PaddlePaddle now.\n"
          ]
        }
      ]
    },
    {
      "cell_type": "code",
      "source": [
        "!pip install paddleseg"
      ],
      "metadata": {
        "colab": {
          "base_uri": "https://localhost:8080/"
        },
        "id": "9XqDktslpZRb",
        "outputId": "5a5fe01a-89c2-4035-fb74-d15dbe26bd59"
      },
      "execution_count": 3,
      "outputs": [
        {
          "output_type": "stream",
          "name": "stdout",
          "text": [
            "Looking in indexes: https://pypi.org/simple, https://us-python.pkg.dev/colab-wheels/public/simple/\n",
            "Collecting paddleseg\n",
            "  Downloading paddleseg-2.6.0-py3-none-any.whl (321 kB)\n",
            "\u001b[K     |████████████████████████████████| 321 kB 4.3 MB/s \n",
            "\u001b[?25hRequirement already satisfied: filelock in /usr/local/lib/python3.7/dist-packages (from paddleseg) (3.7.1)\n",
            "Collecting visualdl>=2.0.0\n",
            "  Downloading visualdl-2.3.0-py3-none-any.whl (2.8 MB)\n",
            "\u001b[K     |████████████████████████████████| 2.8 MB 84.3 MB/s \n",
            "\u001b[?25hRequirement already satisfied: tqdm in /usr/local/lib/python3.7/dist-packages (from paddleseg) (4.64.0)\n",
            "Requirement already satisfied: opencv-python in /usr/local/lib/python3.7/dist-packages (from paddleseg) (4.6.0.66)\n",
            "Collecting pyyaml>=5.1\n",
            "  Downloading PyYAML-6.0-cp37-cp37m-manylinux_2_5_x86_64.manylinux1_x86_64.manylinux_2_12_x86_64.manylinux2010_x86_64.whl (596 kB)\n",
            "\u001b[K     |████████████████████████████████| 596 kB 60.9 MB/s \n",
            "\u001b[?25hRequirement already satisfied: sklearn in /usr/local/lib/python3.7/dist-packages (from paddleseg) (0.0)\n",
            "Requirement already satisfied: prettytable in /usr/local/lib/python3.7/dist-packages (from paddleseg) (3.3.0)\n",
            "Requirement already satisfied: scipy in /usr/local/lib/python3.7/dist-packages (from paddleseg) (1.7.3)\n",
            "Requirement already satisfied: numpy in /usr/local/lib/python3.7/dist-packages (from visualdl>=2.0.0->paddleseg) (1.21.6)\n",
            "Requirement already satisfied: protobuf>=3.11.0 in /usr/local/lib/python3.7/dist-packages (from visualdl>=2.0.0->paddleseg) (3.17.3)\n",
            "Requirement already satisfied: flask>=1.1.1 in /usr/local/lib/python3.7/dist-packages (from visualdl>=2.0.0->paddleseg) (1.1.4)\n",
            "Requirement already satisfied: six>=1.14.0 in /usr/local/lib/python3.7/dist-packages (from visualdl>=2.0.0->paddleseg) (1.15.0)\n",
            "Requirement already satisfied: Pillow>=7.0.0 in /usr/local/lib/python3.7/dist-packages (from visualdl>=2.0.0->paddleseg) (7.1.2)\n",
            "Requirement already satisfied: requests in /usr/local/lib/python3.7/dist-packages (from visualdl>=2.0.0->paddleseg) (2.23.0)\n",
            "Requirement already satisfied: pandas in /usr/local/lib/python3.7/dist-packages (from visualdl>=2.0.0->paddleseg) (1.3.5)\n",
            "Collecting Flask-Babel>=1.0.0\n",
            "  Downloading Flask_Babel-2.0.0-py3-none-any.whl (9.3 kB)\n",
            "Requirement already satisfied: matplotlib in /usr/local/lib/python3.7/dist-packages (from visualdl>=2.0.0->paddleseg) (3.2.2)\n",
            "Collecting bce-python-sdk\n",
            "  Downloading bce_python_sdk-0.8.73-py3-none-any.whl (204 kB)\n",
            "\u001b[K     |████████████████████████████████| 204 kB 76.7 MB/s \n",
            "\u001b[?25hRequirement already satisfied: click<8.0,>=5.1 in /usr/local/lib/python3.7/dist-packages (from flask>=1.1.1->visualdl>=2.0.0->paddleseg) (7.1.2)\n",
            "Requirement already satisfied: itsdangerous<2.0,>=0.24 in /usr/local/lib/python3.7/dist-packages (from flask>=1.1.1->visualdl>=2.0.0->paddleseg) (1.1.0)\n",
            "Requirement already satisfied: Jinja2<3.0,>=2.10.1 in /usr/local/lib/python3.7/dist-packages (from flask>=1.1.1->visualdl>=2.0.0->paddleseg) (2.11.3)\n",
            "Requirement already satisfied: Werkzeug<2.0,>=0.15 in /usr/local/lib/python3.7/dist-packages (from flask>=1.1.1->visualdl>=2.0.0->paddleseg) (1.0.1)\n",
            "Requirement already satisfied: Babel>=2.3 in /usr/local/lib/python3.7/dist-packages (from Flask-Babel>=1.0.0->visualdl>=2.0.0->paddleseg) (2.10.3)\n",
            "Requirement already satisfied: pytz in /usr/local/lib/python3.7/dist-packages (from Flask-Babel>=1.0.0->visualdl>=2.0.0->paddleseg) (2022.1)\n",
            "Requirement already satisfied: MarkupSafe>=0.23 in /usr/local/lib/python3.7/dist-packages (from Jinja2<3.0,>=2.10.1->flask>=1.1.1->visualdl>=2.0.0->paddleseg) (2.0.1)\n",
            "Collecting pycryptodome>=3.8.0\n",
            "  Downloading pycryptodome-3.15.0-cp35-abi3-manylinux2010_x86_64.whl (2.3 MB)\n",
            "\u001b[K     |████████████████████████████████| 2.3 MB 25.2 MB/s \n",
            "\u001b[?25hRequirement already satisfied: future>=0.6.0 in /usr/local/lib/python3.7/dist-packages (from bce-python-sdk->visualdl>=2.0.0->paddleseg) (0.16.0)\n",
            "Requirement already satisfied: kiwisolver>=1.0.1 in /usr/local/lib/python3.7/dist-packages (from matplotlib->visualdl>=2.0.0->paddleseg) (1.4.4)\n",
            "Requirement already satisfied: cycler>=0.10 in /usr/local/lib/python3.7/dist-packages (from matplotlib->visualdl>=2.0.0->paddleseg) (0.11.0)\n",
            "Requirement already satisfied: python-dateutil>=2.1 in /usr/local/lib/python3.7/dist-packages (from matplotlib->visualdl>=2.0.0->paddleseg) (2.8.2)\n",
            "Requirement already satisfied: pyparsing!=2.0.4,!=2.1.2,!=2.1.6,>=2.0.1 in /usr/local/lib/python3.7/dist-packages (from matplotlib->visualdl>=2.0.0->paddleseg) (3.0.9)\n",
            "Requirement already satisfied: typing-extensions in /usr/local/lib/python3.7/dist-packages (from kiwisolver>=1.0.1->matplotlib->visualdl>=2.0.0->paddleseg) (4.1.1)\n",
            "Requirement already satisfied: wcwidth in /usr/local/lib/python3.7/dist-packages (from prettytable->paddleseg) (0.2.5)\n",
            "Requirement already satisfied: importlib-metadata in /usr/local/lib/python3.7/dist-packages (from prettytable->paddleseg) (4.12.0)\n",
            "Requirement already satisfied: zipp>=0.5 in /usr/local/lib/python3.7/dist-packages (from importlib-metadata->prettytable->paddleseg) (3.8.1)\n",
            "Requirement already satisfied: idna<3,>=2.5 in /usr/local/lib/python3.7/dist-packages (from requests->visualdl>=2.0.0->paddleseg) (2.10)\n",
            "Requirement already satisfied: urllib3!=1.25.0,!=1.25.1,<1.26,>=1.21.1 in /usr/local/lib/python3.7/dist-packages (from requests->visualdl>=2.0.0->paddleseg) (1.24.3)\n",
            "Requirement already satisfied: chardet<4,>=3.0.2 in /usr/local/lib/python3.7/dist-packages (from requests->visualdl>=2.0.0->paddleseg) (3.0.4)\n",
            "Requirement already satisfied: certifi>=2017.4.17 in /usr/local/lib/python3.7/dist-packages (from requests->visualdl>=2.0.0->paddleseg) (2022.6.15)\n",
            "Requirement already satisfied: scikit-learn in /usr/local/lib/python3.7/dist-packages (from sklearn->paddleseg) (1.0.2)\n",
            "Requirement already satisfied: threadpoolctl>=2.0.0 in /usr/local/lib/python3.7/dist-packages (from scikit-learn->sklearn->paddleseg) (3.1.0)\n",
            "Requirement already satisfied: joblib>=0.11 in /usr/local/lib/python3.7/dist-packages (from scikit-learn->sklearn->paddleseg) (1.1.0)\n",
            "Installing collected packages: pycryptodome, Flask-Babel, bce-python-sdk, visualdl, pyyaml, paddleseg\n",
            "  Attempting uninstall: pyyaml\n",
            "    Found existing installation: PyYAML 3.13\n",
            "    Uninstalling PyYAML-3.13:\n",
            "      Successfully uninstalled PyYAML-3.13\n",
            "Successfully installed Flask-Babel-2.0.0 bce-python-sdk-0.8.73 paddleseg-2.6.0 pycryptodome-3.15.0 pyyaml-6.0 visualdl-2.3.0\n"
          ]
        }
      ]
    },
    {
      "cell_type": "code",
      "source": [
        "! git clone https://github.com/PaddlePaddle/PaddleSeg"
      ],
      "metadata": {
        "colab": {
          "base_uri": "https://localhost:8080/"
        },
        "id": "bv36oU6CqMxi",
        "outputId": "6d42bd2c-e714-419f-a471-7fdc4be50c82"
      },
      "execution_count": 4,
      "outputs": [
        {
          "output_type": "stream",
          "name": "stdout",
          "text": [
            "Cloning into 'PaddleSeg'...\n",
            "remote: Enumerating objects: 19037, done.\u001b[K\n",
            "remote: Counting objects: 100% (567/567), done.\u001b[K\n",
            "remote: Compressing objects: 100% (374/374), done.\u001b[K\n",
            "remote: Total 19037 (delta 250), reused 419 (delta 189), pack-reused 18470\u001b[K\n",
            "Receiving objects: 100% (19037/19037), 345.48 MiB | 13.85 MiB/s, done.\n",
            "Resolving deltas: 100% (12129/12129), done.\n"
          ]
        }
      ]
    },
    {
      "cell_type": "code",
      "source": [
        "! git clone https://gitee.com/paddlepaddle/PaddleSeg.git"
      ],
      "metadata": {
        "colab": {
          "base_uri": "https://localhost:8080/"
        },
        "id": "pSi7bRQ8qOpk",
        "outputId": "84535705-96ad-4b47-8fa1-890af69dfbfb"
      },
      "execution_count": 5,
      "outputs": [
        {
          "output_type": "stream",
          "name": "stdout",
          "text": [
            "fatal: destination path 'PaddleSeg' already exists and is not an empty directory.\n"
          ]
        }
      ]
    },
    {
      "cell_type": "code",
      "source": [
        "%cd PaddleSeg/"
      ],
      "metadata": {
        "colab": {
          "base_uri": "https://localhost:8080/"
        },
        "id": "IErG6xOxqQjZ",
        "outputId": "435d2019-4de1-4178-e738-5fdccc5c7210"
      },
      "execution_count": 6,
      "outputs": [
        {
          "output_type": "stream",
          "name": "stdout",
          "text": [
            "/content/PaddleSeg\n"
          ]
        }
      ]
    },
    {
      "cell_type": "code",
      "source": [
        "! python train.py --config configs/quick_start/bisenet_optic_disc_512x512_1k.yml--config configs/quick_start/pp_liteseg_optic_disc_512x512_1k.yml--save_interval 500 --do_eval --use_vdl--save_dir output"
      ],
      "metadata": {
        "colab": {
          "base_uri": "https://localhost:8080/"
        },
        "id": "2qzsEqmDqTAc",
        "outputId": "68b4eb81-1f6c-430b-d352-2f52e7829d7a"
      },
      "execution_count": 10,
      "outputs": [
        {
          "output_type": "stream",
          "name": "stdout",
          "text": [
            "usage: train.py [-h] [--config CFG] [--iters ITERS] [--batch_size BATCH_SIZE]\n",
            "                [--learning_rate LEARNING_RATE]\n",
            "                [--save_interval SAVE_INTERVAL] [--resume_model RESUME_MODEL]\n",
            "                [--save_dir SAVE_DIR]\n",
            "                [--keep_checkpoint_max KEEP_CHECKPOINT_MAX]\n",
            "                [--num_workers NUM_WORKERS] [--do_eval]\n",
            "                [--log_iters LOG_ITERS] [--use_vdl] [--seed SEED]\n",
            "                [--precision {fp32,fp16}] [--amp_level {O1,O2}]\n",
            "                [--data_format DATA_FORMAT]\n",
            "                [--profiler_options PROFILER_OPTIONS] [--device DEVICE]\n",
            "train.py: error: unrecognized arguments: configs/quick_start/pp_liteseg_optic_disc_512x512_1k.yml--save_interval 500 --use_vdl--save_dir output\n"
          ]
        }
      ]
    },
    {
      "cell_type": "code",
      "source": [
        "! python train.py --config /content/PaddleSeg/configs/quick_start/deeplabv3p_resnet18_os8_optic_disc_512x512_1k_student.yml --do_eval \\\n",
        "       --use_vdl --save_interval 200 --save_dir output"
      ],
      "metadata": {
        "colab": {
          "base_uri": "https://localhost:8080/"
        },
        "id": "EVrE63UEqUXT",
        "outputId": "359576f0-52ad-408b-8460-8866e8a51eb0"
      },
      "execution_count": 9,
      "outputs": [
        {
          "output_type": "stream",
          "name": "stdout",
          "text": [
            "/content/PaddleSeg/paddleseg/models/losses/rmi_loss.py:78: DeprecationWarning: invalid escape sequence \\i\n",
            "  \"\"\"\n",
            "2022-07-26 13:22:27 [INFO]\t\n",
            "------------Environment Information-------------\n",
            "platform: Linux-5.4.188+-x86_64-with-Ubuntu-18.04-bionic\n",
            "Python: 3.7.13 (default, Apr 24 2022, 01:04:09) [GCC 7.5.0]\n",
            "Paddle compiled with cuda: True\n",
            "NVCC: Build cuda_11.1.TC455_06.29190527_0\n",
            "cudnn: 7.6\n",
            "GPUs used: 1\n",
            "CUDA_VISIBLE_DEVICES: None\n",
            "GPU: ['GPU 0: Tesla T4']\n",
            "GCC: gcc (Ubuntu 7.5.0-3ubuntu1~18.04) 7.5.0\n",
            "PaddleSeg: 2.6.0\n",
            "PaddlePaddle: 2.2.2\n",
            "OpenCV: 4.6.0\n",
            "------------------------------------------------\n",
            "Connecting to https://paddleseg.bj.bcebos.com/dataset/optic_disc_seg.zip\n",
            "Downloading optic_disc_seg.zip\n",
            "[==================================================] 100.00%\n",
            "Uncompress optic_disc_seg.zip\n",
            "[==================================================] 100.00%\n",
            "2022-07-26 13:22:39 [INFO]\t\n",
            "---------------Config Information---------------\n",
            "batch_size: 4\n",
            "distill_loss:\n",
            "  coef:\n",
            "  - 3\n",
            "  types:\n",
            "  - type: KLLoss\n",
            "iters: 1000\n",
            "loss:\n",
            "  coef:\n",
            "  - 1\n",
            "  types:\n",
            "  - ignore_index: 255\n",
            "    type: CrossEntropyLoss\n",
            "lr_scheduler:\n",
            "  end_lr: 0\n",
            "  learning_rate: 0.01\n",
            "  power: 0.9\n",
            "  type: PolynomialDecay\n",
            "model:\n",
            "  align_corners: false\n",
            "  aspp_out_channels: 256\n",
            "  aspp_ratios:\n",
            "  - 1\n",
            "  - 12\n",
            "  - 24\n",
            "  - 36\n",
            "  backbone:\n",
            "    multi_grid:\n",
            "    - 1\n",
            "    - 2\n",
            "    - 4\n",
            "    output_stride: 8\n",
            "    pretrained: null\n",
            "    type: ResNet18_vd\n",
            "  backbone_indices:\n",
            "  - 0\n",
            "  - 3\n",
            "  num_classes: 2\n",
            "  pretrained: null\n",
            "  type: DeepLabV3P\n",
            "optimizer:\n",
            "  momentum: 0.9\n",
            "  type: sgd\n",
            "  weight_decay: 4.0e-05\n",
            "train_dataset:\n",
            "  dataset_root: data/optic_disc_seg\n",
            "  mode: train\n",
            "  transforms:\n",
            "  - target_size:\n",
            "    - 512\n",
            "    - 512\n",
            "    type: Resize\n",
            "  - type: RandomHorizontalFlip\n",
            "  - type: Normalize\n",
            "  type: OpticDiscSeg\n",
            "val_dataset:\n",
            "  dataset_root: data/optic_disc_seg\n",
            "  mode: val\n",
            "  transforms:\n",
            "  - target_size:\n",
            "    - 512\n",
            "    - 512\n",
            "    type: Resize\n",
            "  - type: Normalize\n",
            "  type: OpticDiscSeg\n",
            "------------------------------------------------\n",
            "W0726 13:22:39.706631   237 device_context.cc:447] Please NOTE: device: 0, GPU Compute Capability: 7.5, Driver API Version: 11.2, Runtime API Version: 10.1\n",
            "W0726 13:22:39.706668   237 device_context.cc:465] device: 0, cuDNN Version: 7.6.\n",
            "2022-07-26 13:22:42 [INFO]\tNo pretrained model to load, ResNet_vd will be trained from scratch.\n",
            "/usr/local/lib/python3.7/dist-packages/paddle/nn/layer/norm.py:653: UserWarning: When training, we now always track global mean and variance.\n",
            "  \"When training, we now always track global mean and variance.\")\n",
            "/usr/local/lib/python3.7/dist-packages/paddle/fluid/dygraph/math_op_patch.py:253: UserWarning: The dtype of left and right variables are not the same, left dtype is paddle.float32, but right dtype is paddle.int64, the right dtype will convert to paddle.float32\n",
            "  format(lhs_dtype, rhs_dtype, lhs_dtype))\n",
            "2022-07-26 13:22:47 [INFO]\t[TRAIN] epoch: 1, iter: 10/1000, loss: 0.2302, lr: 0.009919, batch_cost: 0.4860, reader_cost: 0.05771, ips: 8.2307 samples/sec | ETA 00:08:01\n",
            "2022-07-26 13:22:52 [INFO]\t[TRAIN] epoch: 1, iter: 20/1000, loss: 0.0658, lr: 0.009829, batch_cost: 0.4658, reader_cost: 0.04946, ips: 8.5871 samples/sec | ETA 00:07:36\n",
            "2022-07-26 13:22:57 [INFO]\t[TRAIN] epoch: 1, iter: 30/1000, loss: 0.0577, lr: 0.009739, batch_cost: 0.4663, reader_cost: 0.04556, ips: 8.5776 samples/sec | ETA 00:07:32\n",
            "2022-07-26 13:23:01 [INFO]\t[TRAIN] epoch: 1, iter: 40/1000, loss: 0.0371, lr: 0.009648, batch_cost: 0.4705, reader_cost: 0.04835, ips: 8.5020 samples/sec | ETA 00:07:31\n",
            "2022-07-26 13:23:06 [INFO]\t[TRAIN] epoch: 1, iter: 50/1000, loss: 0.0320, lr: 0.009558, batch_cost: 0.4709, reader_cost: 0.04746, ips: 8.4946 samples/sec | ETA 00:07:27\n",
            "2022-07-26 13:23:11 [INFO]\t[TRAIN] epoch: 1, iter: 60/1000, loss: 0.0294, lr: 0.009467, batch_cost: 0.4782, reader_cost: 0.04880, ips: 8.3639 samples/sec | ETA 00:07:29\n",
            "2022-07-26 13:23:16 [INFO]\t[TRAIN] epoch: 2, iter: 70/1000, loss: 0.0244, lr: 0.009377, batch_cost: 0.4820, reader_cost: 0.05151, ips: 8.2995 samples/sec | ETA 00:07:28\n",
            "2022-07-26 13:23:21 [INFO]\t[TRAIN] epoch: 2, iter: 80/1000, loss: 0.0273, lr: 0.009286, batch_cost: 0.4823, reader_cost: 0.04976, ips: 8.2940 samples/sec | ETA 00:07:23\n",
            "2022-07-26 13:23:25 [INFO]\t[TRAIN] epoch: 2, iter: 90/1000, loss: 0.0240, lr: 0.009195, batch_cost: 0.4845, reader_cost: 0.04726, ips: 8.2554 samples/sec | ETA 00:07:20\n",
            "2022-07-26 13:23:30 [INFO]\t[TRAIN] epoch: 2, iter: 100/1000, loss: 0.0228, lr: 0.009104, batch_cost: 0.4888, reader_cost: 0.04892, ips: 8.1825 samples/sec | ETA 00:07:19\n",
            "2022-07-26 13:23:35 [INFO]\t[TRAIN] epoch: 2, iter: 110/1000, loss: 0.0237, lr: 0.009013, batch_cost: 0.4901, reader_cost: 0.04847, ips: 8.1621 samples/sec | ETA 00:07:16\n",
            "2022-07-26 13:23:40 [INFO]\t[TRAIN] epoch: 2, iter: 120/1000, loss: 0.0255, lr: 0.008922, batch_cost: 0.4943, reader_cost: 0.04720, ips: 8.0917 samples/sec | ETA 00:07:15\n",
            "2022-07-26 13:23:45 [INFO]\t[TRAIN] epoch: 2, iter: 130/1000, loss: 0.0226, lr: 0.008831, batch_cost: 0.4990, reader_cost: 0.04919, ips: 8.0157 samples/sec | ETA 00:07:14\n",
            "2022-07-26 13:23:50 [INFO]\t[TRAIN] epoch: 3, iter: 140/1000, loss: 0.0198, lr: 0.008740, batch_cost: 0.5050, reader_cost: 0.05215, ips: 7.9206 samples/sec | ETA 00:07:14\n",
            "2022-07-26 13:23:55 [INFO]\t[TRAIN] epoch: 3, iter: 150/1000, loss: 0.0190, lr: 0.008648, batch_cost: 0.5052, reader_cost: 0.04840, ips: 7.9176 samples/sec | ETA 00:07:09\n",
            "2022-07-26 13:24:00 [INFO]\t[TRAIN] epoch: 3, iter: 160/1000, loss: 0.0228, lr: 0.008557, batch_cost: 0.5117, reader_cost: 0.04933, ips: 7.8175 samples/sec | ETA 00:07:09\n",
            "2022-07-26 13:24:05 [INFO]\t[TRAIN] epoch: 3, iter: 170/1000, loss: 0.0150, lr: 0.008465, batch_cost: 0.5142, reader_cost: 0.04836, ips: 7.7796 samples/sec | ETA 00:07:06\n",
            "2022-07-26 13:24:11 [INFO]\t[TRAIN] epoch: 3, iter: 180/1000, loss: 0.0213, lr: 0.008374, batch_cost: 0.5176, reader_cost: 0.04892, ips: 7.7272 samples/sec | ETA 00:07:04\n",
            "2022-07-26 13:24:16 [INFO]\t[TRAIN] epoch: 3, iter: 190/1000, loss: 0.0164, lr: 0.008282, batch_cost: 0.5182, reader_cost: 0.04978, ips: 7.7186 samples/sec | ETA 00:06:59\n",
            "2022-07-26 13:24:21 [INFO]\t[TRAIN] epoch: 4, iter: 200/1000, loss: 0.0179, lr: 0.008190, batch_cost: 0.5167, reader_cost: 0.05209, ips: 7.7412 samples/sec | ETA 00:06:53\n",
            "2022-07-26 13:24:21 [INFO]\tStart evaluating (total_samples: 76, total_iters: 76)...\n",
            "Traceback (most recent call last):\n",
            "  File \"train.py\", line 230, in <module>\n",
            "    main(args)\n",
            "  File \"train.py\", line 225, in main\n",
            "    to_static_training=cfg.to_static_training)\n",
            "  File \"/content/PaddleSeg/paddleseg/core/train.py\", line 289, in train\n",
            "    **test_config)\n",
            "  File \"/content/PaddleSeg/paddleseg/core/val.py\", line 159, in evaluate\n",
            "    crop_size=crop_size)\n",
            "  File \"/content/PaddleSeg/paddleseg/core/infer.py\", line 169, in inference\n",
            "    logit = reverse_transform(logit, trans_info, mode='bilinear')\n",
            "  File \"/content/PaddleSeg/paddleseg/core/infer.py\", line 40, in reverse_transform\n",
            "    pred = F.interpolate(pred, (h, w), mode=mode)\n",
            "  File \"/usr/local/lib/python3.7/dist-packages/paddle/nn/functional/common.py\", line 361, in interpolate\n",
            "    out_shape[i] = dim.numpy()[0]\n",
            "TypeError: 'tuple' object does not support item assignment\n"
          ]
        }
      ]
    },
    {
      "cell_type": "code",
      "source": [
        ""
      ],
      "metadata": {
        "id": "U8gv0bBuposu"
      },
      "execution_count": null,
      "outputs": []
    },
    {
      "cell_type": "code",
      "source": [
        "! python val.py \\\n",
        "       --config configs/quick_start/bisenet_optic_disc_512x512_1k.yml \\\n",
        "       --model_path output/iter_1000/model.pdparams"
      ],
      "metadata": {
        "colab": {
          "base_uri": "https://localhost:8080/"
        },
        "id": "jNNahNC-q9DS",
        "outputId": "e84d5ce0-83c1-4f45-a6fc-270c68468464"
      },
      "execution_count": 11,
      "outputs": [
        {
          "output_type": "stream",
          "name": "stdout",
          "text": [
            "2022-07-26 13:27:55 [INFO]\t\n",
            "---------------Config Information---------------\n",
            "batch_size: 4\n",
            "iters: 1000\n",
            "loss:\n",
            "  coef:\n",
            "  - 1\n",
            "  - 1\n",
            "  - 1\n",
            "  - 1\n",
            "  - 1\n",
            "  types:\n",
            "  - type: CrossEntropyLoss\n",
            "lr_scheduler:\n",
            "  end_lr: 0\n",
            "  learning_rate: 0.01\n",
            "  power: 0.9\n",
            "  type: PolynomialDecay\n",
            "model:\n",
            "  pretrained: null\n",
            "  type: BiSeNetV2\n",
            "optimizer:\n",
            "  momentum: 0.9\n",
            "  type: sgd\n",
            "  weight_decay: 4.0e-05\n",
            "train_dataset:\n",
            "  dataset_root: data/optic_disc_seg\n",
            "  mode: train\n",
            "  transforms:\n",
            "  - target_size:\n",
            "    - 512\n",
            "    - 512\n",
            "    type: Resize\n",
            "  - type: RandomHorizontalFlip\n",
            "  - type: Normalize\n",
            "  type: OpticDiscSeg\n",
            "val_dataset:\n",
            "  dataset_root: data/optic_disc_seg\n",
            "  mode: val\n",
            "  transforms:\n",
            "  - type: Normalize\n",
            "  type: OpticDiscSeg\n",
            "------------------------------------------------\n",
            "W0726 13:27:55.895016   319 device_context.cc:447] Please NOTE: device: 0, GPU Compute Capability: 7.5, Driver API Version: 11.2, Runtime API Version: 10.1\n",
            "W0726 13:27:55.895072   319 device_context.cc:465] device: 0, cuDNN Version: 7.6.\n",
            "2022-07-26 13:27:59 [INFO]\tLoading pretrained model from output/iter_1000/model.pdparams\n",
            "Traceback (most recent call last):\n",
            "  File \"val.py\", line 187, in <module>\n",
            "    main(args)\n",
            "  File \"val.py\", line 176, in main\n",
            "    utils.load_entire_model(model, args.model_path)\n",
            "  File \"/content/PaddleSeg/paddleseg/utils/utils.py\", line 39, in load_entire_model\n",
            "    load_pretrained_model(model, pretrained)\n",
            "  File \"/content/PaddleSeg/paddleseg/utils/utils.py\", line 105, in load_pretrained_model\n",
            "    format(pretrained_model))\n",
            "ValueError: The pretrained model directory is not Found: output/iter_1000/model.pdparams\n"
          ]
        }
      ]
    },
    {
      "cell_type": "code",
      "source": [
        "! python predict.py \\\n",
        "       --config configs/quick_start/bisenet_optic_disc_512x512_1k.yml \\\n",
        "       --model_path output/iter_1000/model.pdparams \\\n",
        "       --image_path data/optic_disc_seg/JPEGImages/H0003.jpg \\\n",
        "       --save_dir output/result"
      ],
      "metadata": {
        "colab": {
          "base_uri": "https://localhost:8080/"
        },
        "id": "PftXUjDHrEr_",
        "outputId": "5ed729f9-11cc-4434-96ec-2d5b907f5be4"
      },
      "execution_count": 12,
      "outputs": [
        {
          "output_type": "stream",
          "name": "stdout",
          "text": [
            "2022-07-26 13:28:01 [INFO]\t\n",
            "---------------Config Information---------------\n",
            "batch_size: 4\n",
            "iters: 1000\n",
            "loss:\n",
            "  coef:\n",
            "  - 1\n",
            "  - 1\n",
            "  - 1\n",
            "  - 1\n",
            "  - 1\n",
            "  types:\n",
            "  - type: CrossEntropyLoss\n",
            "lr_scheduler:\n",
            "  end_lr: 0\n",
            "  learning_rate: 0.01\n",
            "  power: 0.9\n",
            "  type: PolynomialDecay\n",
            "model:\n",
            "  pretrained: null\n",
            "  type: BiSeNetV2\n",
            "optimizer:\n",
            "  momentum: 0.9\n",
            "  type: sgd\n",
            "  weight_decay: 4.0e-05\n",
            "train_dataset:\n",
            "  dataset_root: data/optic_disc_seg\n",
            "  mode: train\n",
            "  transforms:\n",
            "  - target_size:\n",
            "    - 512\n",
            "    - 512\n",
            "    type: Resize\n",
            "  - type: RandomHorizontalFlip\n",
            "  - type: Normalize\n",
            "  type: OpticDiscSeg\n",
            "val_dataset:\n",
            "  dataset_root: data/optic_disc_seg\n",
            "  mode: val\n",
            "  transforms:\n",
            "  - type: Normalize\n",
            "  type: OpticDiscSeg\n",
            "------------------------------------------------\n",
            "W0726 13:28:01.763561   347 device_context.cc:447] Please NOTE: device: 0, GPU Compute Capability: 7.5, Driver API Version: 11.2, Runtime API Version: 10.1\n",
            "W0726 13:28:01.763630   347 device_context.cc:465] device: 0, cuDNN Version: 7.6.\n",
            "2022-07-26 13:28:05 [INFO]\tNumber of predict images = 1\n",
            "2022-07-26 13:28:05 [INFO]\tLoading pretrained model from output/iter_1000/model.pdparams\n",
            "Traceback (most recent call last):\n",
            "  File \"predict.py\", line 185, in <module>\n",
            "    main(args)\n",
            "  File \"predict.py\", line 180, in main\n",
            "    **test_config)\n",
            "  File \"/content/PaddleSeg/paddleseg/core/predict.py\", line 84, in predict\n",
            "    utils.utils.load_entire_model(model, model_path)\n",
            "  File \"/content/PaddleSeg/paddleseg/utils/utils.py\", line 39, in load_entire_model\n",
            "    load_pretrained_model(model, pretrained)\n",
            "  File \"/content/PaddleSeg/paddleseg/utils/utils.py\", line 105, in load_pretrained_model\n",
            "    format(pretrained_model))\n",
            "ValueError: The pretrained model directory is not Found: output/iter_1000/model.pdparams\n"
          ]
        }
      ]
    },
    {
      "cell_type": "code",
      "source": [
        ""
      ],
      "metadata": {
        "id": "z-dlZn2prxja"
      },
      "execution_count": 12,
      "outputs": []
    }
  ]
}