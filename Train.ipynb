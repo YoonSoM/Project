{
  "nbformat": 4,
  "nbformat_minor": 0,
  "metadata": {
    "colab": {
      "name": "Train.ipynb",
      "provenance": [],
      "collapsed_sections": [
        "uATuMY2SFude",
        "9ZxRgtHJFlgh",
        "BsH6Uoq2Mshv",
        "pnfTXWrlMWnD",
        "egxT5d4oMmTf"
      ],
      "machine_shape": "hm"
    },
    "kernelspec": {
      "name": "python3",
      "display_name": "Python 3"
    },
    "language_info": {
      "name": "python"
    },
    "accelerator": "GPU",
    "gpuClass": "standard"
  },
  "cells": [
    {
      "cell_type": "markdown",
      "source": [
        "# Deeplabv3 Segmentaion"
      ],
      "metadata": {
        "id": "-XOMLIpkP5JH"
      }
    },
    {
      "cell_type": "markdown",
      "source": [
        "## Dataset\n",
        "gdown ID \n",
        "- Binary \n",
        "  - Resize 512x512, padding Original : 1EcAeCLDTlHXf9jzBiSTbqIHMSF6WZC03\n",
        "  - Augmentation Train : 1weHJqe9aGPH1I6bP1K7FzRglIcFfW1fH\n",
        "  - Augmentation Valid : 17xTOcDDZPlmZTz4kn1oTozjt_mdulrNz\n",
        "\n"
      ],
      "metadata": {
        "id": "DdqEkCr2QCmm"
      }
    },
    {
      "cell_type": "markdown",
      "source": [
        "## Original dataset download and train"
      ],
      "metadata": {
        "id": "oYDTyVegFZ5X"
      }
    },
    {
      "cell_type": "markdown",
      "source": [
        "### Git clone"
      ],
      "metadata": {
        "id": "uATuMY2SFude"
      }
    },
    {
      "cell_type": "code",
      "source": [
        "cd /content"
      ],
      "metadata": {
        "colab": {
          "base_uri": "https://localhost:8080/"
        },
        "id": "HFJbbxJtLN-A",
        "outputId": "8abd0f41-28a0-4b50-8568-df080a82aa8f"
      },
      "execution_count": 44,
      "outputs": [
        {
          "output_type": "stream",
          "name": "stdout",
          "text": [
            "/content\n"
          ]
        }
      ]
    },
    {
      "cell_type": "code",
      "execution_count": 50,
      "metadata": {
        "colab": {
          "base_uri": "https://localhost:8080/"
        },
        "id": "CU_Z13vwPlOF",
        "outputId": "d94d8503-60be-4858-e5f0-19c23a10b59e"
      },
      "outputs": [
        {
          "output_type": "stream",
          "name": "stdout",
          "text": [
            "fatal: destination path 'CodeEnter_DeepLabv3FineTuning' already exists and is not an empty directory.\n"
          ]
        }
      ],
      "source": [
        "!git clone https://github.com/jcjang1/CodeEnter_DeepLabv3FineTuning.git"
      ]
    },
    {
      "cell_type": "markdown",
      "source": [
        "### Dataset download"
      ],
      "metadata": {
        "id": "9ZxRgtHJFlgh"
      }
    },
    {
      "cell_type": "code",
      "source": [
        "!gdown 1EcAeCLDTlHXf9jzBiSTbqIHMSF6WZC03"
      ],
      "metadata": {
        "colab": {
          "base_uri": "https://localhost:8080/"
        },
        "id": "_OB5Z-CybwxR",
        "outputId": "cbe7c706-eb81-41be-e809-80ed7d491f1b"
      },
      "execution_count": 1,
      "outputs": [
        {
          "output_type": "stream",
          "name": "stdout",
          "text": [
            "Downloading...\n",
            "From: https://drive.google.com/uc?id=1EcAeCLDTlHXf9jzBiSTbqIHMSF6WZC03\n",
            "To: /content/512_padding_data_220722.zip\n",
            "100% 59.5M/59.5M [00:00<00:00, 250MB/s]\n"
          ]
        }
      ]
    },
    {
      "cell_type": "code",
      "source": [
        "!unzip /content/512_padding_data_220722.zip"
      ],
      "metadata": {
        "id": "vN5ZZJ3Nb6Xp"
      },
      "execution_count": null,
      "outputs": []
    },
    {
      "cell_type": "markdown",
      "source": [
        "### Make folder\n",
        "- 원하는 데이터 class 번호만 바꿔주면서 작업\n",
        "- ex)\n",
        "\n",
        "```\n",
        "!mv {class 번호} data_set\n",
        "```\n",
        "\n"
      ],
      "metadata": {
        "id": "BnOHKe4HFqSo"
      }
    },
    {
      "cell_type": "code",
      "source": [
        "cd /content/make_data"
      ],
      "metadata": {
        "colab": {
          "base_uri": "https://localhost:8080/"
        },
        "id": "M3IqM1mxByRP",
        "outputId": "5efc0041-bc27-4ca9-e882-04f307329f80"
      },
      "execution_count": 3,
      "outputs": [
        {
          "output_type": "stream",
          "name": "stdout",
          "text": [
            "/content/make_data\n"
          ]
        }
      ]
    },
    {
      "cell_type": "code",
      "source": [
        "!mv 4 data_set\n",
        "!mv ./data_set/images ./data_set/Images\n",
        "!mv ./data_set/masks ./data_set/Masks"
      ],
      "metadata": {
        "id": "5V7rOYgNBkRG"
      },
      "execution_count": 4,
      "outputs": []
    },
    {
      "cell_type": "markdown",
      "source": [
        "### Trainning"
      ],
      "metadata": {
        "id": "hoLxKAvHFxxW"
      }
    },
    {
      "cell_type": "code",
      "source": [
        "cd /content/CodeEnter_DeepLabv3FineTuning"
      ],
      "metadata": {
        "colab": {
          "base_uri": "https://localhost:8080/"
        },
        "id": "WAHJvqH8b9MK",
        "outputId": "e8f82924-0d79-4321-ac6a-33d1cdd1a6b2"
      },
      "execution_count": 7,
      "outputs": [
        {
          "output_type": "stream",
          "name": "stdout",
          "text": [
            "/content/CodeEnter_DeepLabv3FineTuning\n"
          ]
        }
      ]
    },
    {
      "cell_type": "code",
      "source": [
        "!python main.py --data-directory /content/make_data/data_set --exp_directory CFExp"
      ],
      "metadata": {
        "id": "3B13Z8NicObM"
      },
      "execution_count": null,
      "outputs": []
    },
    {
      "cell_type": "markdown",
      "source": [
        "## Augmentation dataset download and train"
      ],
      "metadata": {
        "id": "TdrV1xUYIiZt"
      }
    },
    {
      "cell_type": "markdown",
      "source": [
        "### Git clone"
      ],
      "metadata": {
        "id": "BsH6Uoq2Mshv"
      }
    },
    {
      "cell_type": "code",
      "source": [
        "cd /content"
      ],
      "metadata": {
        "colab": {
          "base_uri": "https://localhost:8080/"
        },
        "outputId": "8abd0f41-28a0-4b50-8568-df080a82aa8f",
        "id": "57brmaNbMshv"
      },
      "execution_count": null,
      "outputs": [
        {
          "output_type": "stream",
          "name": "stdout",
          "text": [
            "/content\n"
          ]
        }
      ]
    },
    {
      "cell_type": "code",
      "execution_count": null,
      "metadata": {
        "colab": {
          "base_uri": "https://localhost:8080/"
        },
        "outputId": "d94d8503-60be-4858-e5f0-19c23a10b59e",
        "id": "FMNG6vQOMshv"
      },
      "outputs": [
        {
          "output_type": "stream",
          "name": "stdout",
          "text": [
            "fatal: destination path 'CodeEnter_DeepLabv3FineTuning' already exists and is not an empty directory.\n"
          ]
        }
      ],
      "source": [
        "!git clone https://github.com/jcjang1/CodeEnter_DeepLabv3FineTuning.git"
      ]
    },
    {
      "cell_type": "markdown",
      "source": [
        "### Aug dataset download"
      ],
      "metadata": {
        "id": "pnfTXWrlMWnD"
      }
    },
    {
      "cell_type": "code",
      "source": [
        "!gdown 1weHJqe9aGPH1I6bP1K7FzRglIcFfW1fH\n",
        "!gdown 17xTOcDDZPlmZTz4kn1oTozjt_mdulrNz"
      ],
      "metadata": {
        "colab": {
          "base_uri": "https://localhost:8080/"
        },
        "id": "EvobTupdIqZ9",
        "outputId": "2fba3417-1e26-4834-e969-7673ccafbc1e"
      },
      "execution_count": 30,
      "outputs": [
        {
          "output_type": "stream",
          "name": "stdout",
          "text": [
            "Downloading...\n",
            "From: https://drive.google.com/uc?id=1weHJqe9aGPH1I6bP1K7FzRglIcFfW1fH\n",
            "To: /content/CodeEnter_DeepLabv3FineTuning/bin_train_data.zip\n",
            "100% 107M/107M [00:01<00:00, 55.2MB/s] \n",
            "Downloading...\n",
            "From: https://drive.google.com/uc?id=17xTOcDDZPlmZTz4kn1oTozjt_mdulrNz\n",
            "To: /content/CodeEnter_DeepLabv3FineTuning/bin_valid_data.zip\n",
            "100% 31.7M/31.7M [00:00<00:00, 148MB/s] \n"
          ]
        }
      ]
    },
    {
      "cell_type": "markdown",
      "source": [
        "### Make folder\n",
        "- 원하는 데이터 class 번호만 바꿔주면서 작업\n",
        "- ex)\n",
        "\n",
        "```\n",
        "!mv /content/aug_data/{class번호} /content/aug_data/Train\n",
        "!mv /content/test_data/{class번호} /content/test_data/Test\n",
        "```\n",
        "\n"
      ],
      "metadata": {
        "id": "egxT5d4oMmTf"
      }
    },
    {
      "cell_type": "code",
      "source": [
        "!mkdir aug_data_set"
      ],
      "metadata": {
        "id": "2AhCyDSWJCM1"
      },
      "execution_count": 33,
      "outputs": []
    },
    {
      "cell_type": "code",
      "source": [
        "!unzip /content/bin_train_data.zip\n",
        "!unzip /content/bin_valid_data.zip"
      ],
      "metadata": {
        "id": "rtUsFEmiI1IP"
      },
      "execution_count": null,
      "outputs": []
    },
    {
      "cell_type": "code",
      "source": [
        "!mv /content/aug_data/4 /content/aug_data/Train\n",
        "!mv /content/test_data/4 /content/test_data/Test\n",
        "\n",
        "!mv /content/aug_data/Train/images /content/aug_data/Train/Images\n",
        "!mv /content/aug_data/Train/masks /content/aug_data/Train/Masks\n",
        "\n",
        "!mv /content/test_data/Test/images /content/test_data/Test/Images\n",
        "!mv /content/test_data/Test/masks /content/test_data/Test/Masks"
      ],
      "metadata": {
        "id": "-b6poL5QJuYu"
      },
      "execution_count": null,
      "outputs": []
    },
    {
      "cell_type": "code",
      "source": [
        "!cp -r /content/aug_data/Train ./aug_data_set\n",
        "!cp -r /content/test_data/Test ./aug_data_set"
      ],
      "metadata": {
        "id": "IO3goO5PLDwi"
      },
      "execution_count": 45,
      "outputs": []
    },
    {
      "cell_type": "markdown",
      "source": [
        "### Trainning"
      ],
      "metadata": {
        "id": "kaCH5ASbMx3h"
      }
    },
    {
      "cell_type": "code",
      "source": [
        "cd /content/CodeEnter_DeepLabv3FineTuning"
      ],
      "metadata": {
        "colab": {
          "base_uri": "https://localhost:8080/"
        },
        "id": "zxbEiV2gLoB2",
        "outputId": "903eb4f3-9618-4178-9213-beabcd1e0a28"
      },
      "execution_count": 51,
      "outputs": [
        {
          "output_type": "stream",
          "name": "stdout",
          "text": [
            "/content/CodeEnter_DeepLabv3FineTuning\n"
          ]
        }
      ]
    },
    {
      "cell_type": "code",
      "source": [
        "!python sep_main.py --data-directory /content/aug_data_set --exp_directory CFExp"
      ],
      "metadata": {
        "colab": {
          "base_uri": "https://localhost:8080/"
        },
        "id": "MHQgTAiiLkUU",
        "outputId": "f6b02803-fbe7-46a6-9850-b587e81ac591"
      },
      "execution_count": null,
      "outputs": [
        {
          "output_type": "stream",
          "name": "stdout",
          "text": [
            "Epoch 1/15\n",
            "----------\n",
            "100% 120/120 [03:27<00:00,  1.73s/it]\n",
            "Train Loss: 0.0260\n",
            "100% 14/14 [00:13<00:00,  1.05it/s]\n",
            "Test Loss: 0.0915\n",
            "{'epoch': 1, 'Train_loss': 0.02603794075548649, 'Test_loss': 0.09146878123283386, 'Train_f1_score': 0.16414168894252645, 'Train_auroc': 0.7488944687127995, 'Train_iou': 0.09387291584679881, 'Test_f1_score': 0.3018690514275113, 'Test_auroc': 0.7481055327178313, 'Test_iou': 0.2036329824629373}\n",
            "Epoch 2/15\n",
            "----------\n",
            "  8% 9/120 [00:15<03:10,  1.71s/it]"
          ]
        }
      ]
    },
    {
      "cell_type": "markdown",
      "source": [
        "## Inference"
      ],
      "metadata": {
        "id": "SpgLQGzlGa_K"
      }
    },
    {
      "cell_type": "code",
      "source": [
        "import torch\n",
        "import matplotlib.pyplot as plt\n",
        "import cv2\n",
        "import pandas as pd"
      ],
      "metadata": {
        "id": "puLlP8GaGdyA"
      },
      "execution_count": 13,
      "outputs": []
    },
    {
      "cell_type": "code",
      "source": [
        "# Load the trained model \n",
        "model = torch.load('./CFExp/weights.pt')\n",
        "# Set the model to evaluate mode\n",
        "model.eval()"
      ],
      "metadata": {
        "id": "1_XYY2NMGfMK"
      },
      "execution_count": null,
      "outputs": []
    },
    {
      "cell_type": "markdown",
      "source": [
        "### Visualizing"
      ],
      "metadata": {
        "id": "LZZYdiJ1F0bo"
      }
    },
    {
      "cell_type": "code",
      "source": [
        "df = pd.read_csv('/content/CodeEnter_DeepLabv3FineTuning/CFExp/log.csv')\n",
        "df[-1:]"
      ],
      "metadata": {
        "colab": {
          "base_uri": "https://localhost:8080/",
          "height": 81
        },
        "id": "VRnXEB9Dcrd8",
        "outputId": "3e8b229a-cfdf-48b4-f687-c0c8e4580250"
      },
      "execution_count": 15,
      "outputs": [
        {
          "output_type": "execute_result",
          "data": {
            "text/plain": [
              "    epoch  Train_loss  Test_loss  Train_f1_score  Train_auroc  Train_iou  \\\n",
              "14     15    0.009638   0.076053         0.66554     0.975952   0.556801   \n",
              "\n",
              "    Test_f1_score  Test_auroc  Test_iou  \n",
              "14       0.359163    0.730262  0.268831  "
            ],
            "text/html": [
              "\n",
              "  <div id=\"df-9e0bad2f-6f96-4101-9cd6-c9493de386e9\">\n",
              "    <div class=\"colab-df-container\">\n",
              "      <div>\n",
              "<style scoped>\n",
              "    .dataframe tbody tr th:only-of-type {\n",
              "        vertical-align: middle;\n",
              "    }\n",
              "\n",
              "    .dataframe tbody tr th {\n",
              "        vertical-align: top;\n",
              "    }\n",
              "\n",
              "    .dataframe thead th {\n",
              "        text-align: right;\n",
              "    }\n",
              "</style>\n",
              "<table border=\"1\" class=\"dataframe\">\n",
              "  <thead>\n",
              "    <tr style=\"text-align: right;\">\n",
              "      <th></th>\n",
              "      <th>epoch</th>\n",
              "      <th>Train_loss</th>\n",
              "      <th>Test_loss</th>\n",
              "      <th>Train_f1_score</th>\n",
              "      <th>Train_auroc</th>\n",
              "      <th>Train_iou</th>\n",
              "      <th>Test_f1_score</th>\n",
              "      <th>Test_auroc</th>\n",
              "      <th>Test_iou</th>\n",
              "    </tr>\n",
              "  </thead>\n",
              "  <tbody>\n",
              "    <tr>\n",
              "      <th>14</th>\n",
              "      <td>15</td>\n",
              "      <td>0.009638</td>\n",
              "      <td>0.076053</td>\n",
              "      <td>0.66554</td>\n",
              "      <td>0.975952</td>\n",
              "      <td>0.556801</td>\n",
              "      <td>0.359163</td>\n",
              "      <td>0.730262</td>\n",
              "      <td>0.268831</td>\n",
              "    </tr>\n",
              "  </tbody>\n",
              "</table>\n",
              "</div>\n",
              "      <button class=\"colab-df-convert\" onclick=\"convertToInteractive('df-9e0bad2f-6f96-4101-9cd6-c9493de386e9')\"\n",
              "              title=\"Convert this dataframe to an interactive table.\"\n",
              "              style=\"display:none;\">\n",
              "        \n",
              "  <svg xmlns=\"http://www.w3.org/2000/svg\" height=\"24px\"viewBox=\"0 0 24 24\"\n",
              "       width=\"24px\">\n",
              "    <path d=\"M0 0h24v24H0V0z\" fill=\"none\"/>\n",
              "    <path d=\"M18.56 5.44l.94 2.06.94-2.06 2.06-.94-2.06-.94-.94-2.06-.94 2.06-2.06.94zm-11 1L8.5 8.5l.94-2.06 2.06-.94-2.06-.94L8.5 2.5l-.94 2.06-2.06.94zm10 10l.94 2.06.94-2.06 2.06-.94-2.06-.94-.94-2.06-.94 2.06-2.06.94z\"/><path d=\"M17.41 7.96l-1.37-1.37c-.4-.4-.92-.59-1.43-.59-.52 0-1.04.2-1.43.59L10.3 9.45l-7.72 7.72c-.78.78-.78 2.05 0 2.83L4 21.41c.39.39.9.59 1.41.59.51 0 1.02-.2 1.41-.59l7.78-7.78 2.81-2.81c.8-.78.8-2.07 0-2.86zM5.41 20L4 18.59l7.72-7.72 1.47 1.35L5.41 20z\"/>\n",
              "  </svg>\n",
              "      </button>\n",
              "      \n",
              "  <style>\n",
              "    .colab-df-container {\n",
              "      display:flex;\n",
              "      flex-wrap:wrap;\n",
              "      gap: 12px;\n",
              "    }\n",
              "\n",
              "    .colab-df-convert {\n",
              "      background-color: #E8F0FE;\n",
              "      border: none;\n",
              "      border-radius: 50%;\n",
              "      cursor: pointer;\n",
              "      display: none;\n",
              "      fill: #1967D2;\n",
              "      height: 32px;\n",
              "      padding: 0 0 0 0;\n",
              "      width: 32px;\n",
              "    }\n",
              "\n",
              "    .colab-df-convert:hover {\n",
              "      background-color: #E2EBFA;\n",
              "      box-shadow: 0px 1px 2px rgba(60, 64, 67, 0.3), 0px 1px 3px 1px rgba(60, 64, 67, 0.15);\n",
              "      fill: #174EA6;\n",
              "    }\n",
              "\n",
              "    [theme=dark] .colab-df-convert {\n",
              "      background-color: #3B4455;\n",
              "      fill: #D2E3FC;\n",
              "    }\n",
              "\n",
              "    [theme=dark] .colab-df-convert:hover {\n",
              "      background-color: #434B5C;\n",
              "      box-shadow: 0px 1px 3px 1px rgba(0, 0, 0, 0.15);\n",
              "      filter: drop-shadow(0px 1px 2px rgba(0, 0, 0, 0.3));\n",
              "      fill: #FFFFFF;\n",
              "    }\n",
              "  </style>\n",
              "\n",
              "      <script>\n",
              "        const buttonEl =\n",
              "          document.querySelector('#df-9e0bad2f-6f96-4101-9cd6-c9493de386e9 button.colab-df-convert');\n",
              "        buttonEl.style.display =\n",
              "          google.colab.kernel.accessAllowed ? 'block' : 'none';\n",
              "\n",
              "        async function convertToInteractive(key) {\n",
              "          const element = document.querySelector('#df-9e0bad2f-6f96-4101-9cd6-c9493de386e9');\n",
              "          const dataTable =\n",
              "            await google.colab.kernel.invokeFunction('convertToInteractive',\n",
              "                                                     [key], {});\n",
              "          if (!dataTable) return;\n",
              "\n",
              "          const docLinkHtml = 'Like what you see? Visit the ' +\n",
              "            '<a target=\"_blank\" href=https://colab.research.google.com/notebooks/data_table.ipynb>data table notebook</a>'\n",
              "            + ' to learn more about interactive tables.';\n",
              "          element.innerHTML = '';\n",
              "          dataTable['output_type'] = 'display_data';\n",
              "          await google.colab.output.renderOutput(dataTable, element);\n",
              "          const docLink = document.createElement('div');\n",
              "          docLink.innerHTML = docLinkHtml;\n",
              "          element.appendChild(docLink);\n",
              "        }\n",
              "      </script>\n",
              "    </div>\n",
              "  </div>\n",
              "  "
            ]
          },
          "metadata": {},
          "execution_count": 15
        }
      ]
    },
    {
      "cell_type": "code",
      "source": [
        "df.plot(x='epoch',figsize=(15,8));"
      ],
      "metadata": {
        "colab": {
          "base_uri": "https://localhost:8080/",
          "height": 497
        },
        "id": "D35r7pb571wB",
        "outputId": "68d43eeb-8f52-43c0-a2ad-c9fa50ef6329"
      },
      "execution_count": 16,
      "outputs": [
        {
          "output_type": "display_data",
          "data": {
            "text/plain": [
              "<Figure size 1080x576 with 1 Axes>"
            ],
            "image/png": "[encoded data removed]"
          },
          "metadata": {
            "needs_background": "light"
          }
        }
      ]
    },
    {
      "cell_type": "code",
      "source": [
        "print(df[['Train_auroc','Test_auroc']].max())"
      ],
      "metadata": {
        "colab": {
          "base_uri": "https://localhost:8080/"
        },
        "id": "PA_O189x8u08",
        "outputId": "da560a56-20b4-482b-8998-f852a6944733"
      },
      "execution_count": 17,
      "outputs": [
        {
          "output_type": "stream",
          "name": "stdout",
          "text": [
            "Train_auroc    0.975999\n",
            "Test_auroc     0.792268\n",
            "dtype: float64\n"
          ]
        }
      ]
    },
    {
      "cell_type": "code",
      "source": [
        "# Read  a sample image and mask from the data-set\n",
        "img = cv2.imread('/content/make_data/data_set/Images/a_010.jpg').transpose(2,0,1)\n",
        "img = img.reshape(1,3,img.shape[1],img.shape[2])\n",
        "mask = cv2.imread('/content/make_data/data_set/Masks/a_010.jpg')\n",
        "with torch.no_grad():\n",
        "    a = model(torch.from_numpy(img).type(torch.cuda.FloatTensor)/255)"
      ],
      "metadata": {
        "id": "MXuWi9dSGPco"
      },
      "execution_count": 27,
      "outputs": []
    },
    {
      "cell_type": "code",
      "source": [
        "plt.hist(a['out'].data.cpu().numpy().flatten())"
      ],
      "metadata": {
        "colab": {
          "base_uri": "https://localhost:8080/",
          "height": 375
        },
        "id": "apO_hJj9G_3K",
        "outputId": "2d8fa069-62e4-4ab7-9b99-ed9db8000e46"
      },
      "execution_count": 28,
      "outputs": [
        {
          "output_type": "execute_result",
          "data": {
            "text/plain": [
              "(array([  1782.,  48506., 149715.,   7091.,   4971.,   4435.,   4700.,\n",
              "          6392.,  16050.,  18502.]),\n",
              " array([-0.39449978, -0.21458068, -0.03466158,  0.14525752,  0.32517663,\n",
              "         0.5050957 ,  0.68501484,  0.8649339 ,  1.044853  ,  1.2247721 ,\n",
              "         1.4046912 ], dtype=float32),\n",
              " <a list of 10 Patch objects>)"
            ]
          },
          "metadata": {},
          "execution_count": 28
        },
        {
          "output_type": "display_data",
          "data": {
            "text/plain": [
              "<Figure size 432x288 with 1 Axes>"
            ],
            "image/png": "[encoded data removed]"
          },
          "metadata": {
            "needs_background": "light"
          }
        }
      ]
    },
    {
      "cell_type": "code",
      "source": [
        "# Plot the input image, ground truth and the predicted output\n",
        "plt.figure(figsize=(10,10));\n",
        "plt.subplot(131);\n",
        "plt.imshow(img[0,...].transpose(1,2,0));\n",
        "plt.title('Image')\n",
        "plt.axis('off');\n",
        "plt.subplot(132);\n",
        "plt.imshow(mask);\n",
        "plt.title('Ground Truth')\n",
        "plt.axis('off');\n",
        "plt.subplot(133);\n",
        "plt.imshow(a['out'].cpu().detach().numpy()[0][0]>0.2);\n",
        "plt.title('Segmentation Output')\n",
        "plt.axis('off');\n",
        "# plt.savefig('./CFExp/SegmentationOutput.png',bbox_inches='tight')"
      ],
      "metadata": {
        "colab": {
          "base_uri": "https://localhost:8080/",
          "height": 211
        },
        "id": "n3wwz8ZrILrQ",
        "outputId": "c4791dcf-f290-4392-b768-aec79353fbe2"
      },
      "execution_count": 29,
      "outputs": [
        {
          "output_type": "display_data",
          "data": {
            "text/plain": [
              "<Figure size 720x720 with 3 Axes>"
            ],
            "image/png": "[encoded data removed]"
          },
          "metadata": {
            "needs_background": "light"
          }
        }
      ]
    },
    {
      "cell_type": "code",
      "source": [
        ""
      ],
      "metadata": {
        "id": "LzW9ovoOIcBG"
      },
      "execution_count": null,
      "outputs": []
    }
  ]
}